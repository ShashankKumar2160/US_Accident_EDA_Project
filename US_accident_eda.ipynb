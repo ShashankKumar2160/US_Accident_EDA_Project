{
 "cells": [
  {
   "cell_type": "code",
   "execution_count": null,
   "metadata": {},
   "outputs": [],
   "source": [
    "import pandas as pd\n",
    "df = pd.read_csv('US_Accidents_March23.csv')"
   ]
  },
  {
   "cell_type": "code",
   "execution_count": null,
   "metadata": {},
   "outputs": [
    {
     "data": {
      "text/html": [
       "<div>\n",
       "<style scoped>\n",
       "    .dataframe tbody tr th:only-of-type {\n",
       "        vertical-align: middle;\n",
       "    }\n",
       "\n",
       "    .dataframe tbody tr th {\n",
       "        vertical-align: top;\n",
       "    }\n",
       "\n",
       "    .dataframe thead th {\n",
       "        text-align: right;\n",
       "    }\n",
       "</style>\n",
       "<table border=\"1\" class=\"dataframe\">\n",
       "  <thead>\n",
       "    <tr style=\"text-align: right;\">\n",
       "      <th></th>\n",
       "      <th>ID</th>\n",
       "      <th>Source</th>\n",
       "      <th>Severity</th>\n",
       "      <th>Start_Time</th>\n",
       "      <th>End_Time</th>\n",
       "      <th>Start_Lat</th>\n",
       "      <th>Start_Lng</th>\n",
       "      <th>End_Lat</th>\n",
       "      <th>End_Lng</th>\n",
       "      <th>Distance(mi)</th>\n",
       "      <th>...</th>\n",
       "      <th>Roundabout</th>\n",
       "      <th>Station</th>\n",
       "      <th>Stop</th>\n",
       "      <th>Traffic_Calming</th>\n",
       "      <th>Traffic_Signal</th>\n",
       "      <th>Turning_Loop</th>\n",
       "      <th>Sunrise_Sunset</th>\n",
       "      <th>Civil_Twilight</th>\n",
       "      <th>Nautical_Twilight</th>\n",
       "      <th>Astronomical_Twilight</th>\n",
       "    </tr>\n",
       "  </thead>\n",
       "  <tbody>\n",
       "    <tr>\n",
       "      <th>0</th>\n",
       "      <td>A-1</td>\n",
       "      <td>Source2</td>\n",
       "      <td>3</td>\n",
       "      <td>2016-02-08 05:46:00</td>\n",
       "      <td>2016-02-08 11:00:00</td>\n",
       "      <td>39.865147</td>\n",
       "      <td>-84.058723</td>\n",
       "      <td>NaN</td>\n",
       "      <td>NaN</td>\n",
       "      <td>0.01</td>\n",
       "      <td>...</td>\n",
       "      <td>False</td>\n",
       "      <td>False</td>\n",
       "      <td>False</td>\n",
       "      <td>False</td>\n",
       "      <td>False</td>\n",
       "      <td>False</td>\n",
       "      <td>Night</td>\n",
       "      <td>Night</td>\n",
       "      <td>Night</td>\n",
       "      <td>Night</td>\n",
       "    </tr>\n",
       "    <tr>\n",
       "      <th>1</th>\n",
       "      <td>A-2</td>\n",
       "      <td>Source2</td>\n",
       "      <td>2</td>\n",
       "      <td>2016-02-08 06:07:59</td>\n",
       "      <td>2016-02-08 06:37:59</td>\n",
       "      <td>39.928059</td>\n",
       "      <td>-82.831184</td>\n",
       "      <td>NaN</td>\n",
       "      <td>NaN</td>\n",
       "      <td>0.01</td>\n",
       "      <td>...</td>\n",
       "      <td>False</td>\n",
       "      <td>False</td>\n",
       "      <td>False</td>\n",
       "      <td>False</td>\n",
       "      <td>False</td>\n",
       "      <td>False</td>\n",
       "      <td>Night</td>\n",
       "      <td>Night</td>\n",
       "      <td>Night</td>\n",
       "      <td>Day</td>\n",
       "    </tr>\n",
       "    <tr>\n",
       "      <th>2</th>\n",
       "      <td>A-3</td>\n",
       "      <td>Source2</td>\n",
       "      <td>2</td>\n",
       "      <td>2016-02-08 06:49:27</td>\n",
       "      <td>2016-02-08 07:19:27</td>\n",
       "      <td>39.063148</td>\n",
       "      <td>-84.032608</td>\n",
       "      <td>NaN</td>\n",
       "      <td>NaN</td>\n",
       "      <td>0.01</td>\n",
       "      <td>...</td>\n",
       "      <td>False</td>\n",
       "      <td>False</td>\n",
       "      <td>False</td>\n",
       "      <td>False</td>\n",
       "      <td>True</td>\n",
       "      <td>False</td>\n",
       "      <td>Night</td>\n",
       "      <td>Night</td>\n",
       "      <td>Day</td>\n",
       "      <td>Day</td>\n",
       "    </tr>\n",
       "    <tr>\n",
       "      <th>3</th>\n",
       "      <td>A-4</td>\n",
       "      <td>Source2</td>\n",
       "      <td>3</td>\n",
       "      <td>2016-02-08 07:23:34</td>\n",
       "      <td>2016-02-08 07:53:34</td>\n",
       "      <td>39.747753</td>\n",
       "      <td>-84.205582</td>\n",
       "      <td>NaN</td>\n",
       "      <td>NaN</td>\n",
       "      <td>0.01</td>\n",
       "      <td>...</td>\n",
       "      <td>False</td>\n",
       "      <td>False</td>\n",
       "      <td>False</td>\n",
       "      <td>False</td>\n",
       "      <td>False</td>\n",
       "      <td>False</td>\n",
       "      <td>Night</td>\n",
       "      <td>Day</td>\n",
       "      <td>Day</td>\n",
       "      <td>Day</td>\n",
       "    </tr>\n",
       "    <tr>\n",
       "      <th>4</th>\n",
       "      <td>A-5</td>\n",
       "      <td>Source2</td>\n",
       "      <td>2</td>\n",
       "      <td>2016-02-08 07:39:07</td>\n",
       "      <td>2016-02-08 08:09:07</td>\n",
       "      <td>39.627781</td>\n",
       "      <td>-84.188354</td>\n",
       "      <td>NaN</td>\n",
       "      <td>NaN</td>\n",
       "      <td>0.01</td>\n",
       "      <td>...</td>\n",
       "      <td>False</td>\n",
       "      <td>False</td>\n",
       "      <td>False</td>\n",
       "      <td>False</td>\n",
       "      <td>True</td>\n",
       "      <td>False</td>\n",
       "      <td>Day</td>\n",
       "      <td>Day</td>\n",
       "      <td>Day</td>\n",
       "      <td>Day</td>\n",
       "    </tr>\n",
       "  </tbody>\n",
       "</table>\n",
       "<p>5 rows × 46 columns</p>\n",
       "</div>"
      ],
      "text/plain": [
       "    ID   Source  Severity           Start_Time             End_Time  \\\n",
       "0  A-1  Source2         3  2016-02-08 05:46:00  2016-02-08 11:00:00   \n",
       "1  A-2  Source2         2  2016-02-08 06:07:59  2016-02-08 06:37:59   \n",
       "2  A-3  Source2         2  2016-02-08 06:49:27  2016-02-08 07:19:27   \n",
       "3  A-4  Source2         3  2016-02-08 07:23:34  2016-02-08 07:53:34   \n",
       "4  A-5  Source2         2  2016-02-08 07:39:07  2016-02-08 08:09:07   \n",
       "\n",
       "   Start_Lat  Start_Lng  End_Lat  End_Lng  Distance(mi)  ... Roundabout  \\\n",
       "0  39.865147 -84.058723      NaN      NaN          0.01  ...      False   \n",
       "1  39.928059 -82.831184      NaN      NaN          0.01  ...      False   \n",
       "2  39.063148 -84.032608      NaN      NaN          0.01  ...      False   \n",
       "3  39.747753 -84.205582      NaN      NaN          0.01  ...      False   \n",
       "4  39.627781 -84.188354      NaN      NaN          0.01  ...      False   \n",
       "\n",
       "  Station   Stop Traffic_Calming Traffic_Signal Turning_Loop Sunrise_Sunset  \\\n",
       "0   False  False           False          False        False          Night   \n",
       "1   False  False           False          False        False          Night   \n",
       "2   False  False           False           True        False          Night   \n",
       "3   False  False           False          False        False          Night   \n",
       "4   False  False           False           True        False            Day   \n",
       "\n",
       "  Civil_Twilight Nautical_Twilight Astronomical_Twilight  \n",
       "0          Night             Night                 Night  \n",
       "1          Night             Night                   Day  \n",
       "2          Night               Day                   Day  \n",
       "3            Day               Day                   Day  \n",
       "4            Day               Day                   Day  \n",
       "\n",
       "[5 rows x 46 columns]"
      ]
     },
     "execution_count": 5,
     "metadata": {},
     "output_type": "execute_result"
    }
   ],
   "source": [
    "df.head()"
   ]
  },
  {
   "cell_type": "code",
   "execution_count": null,
   "metadata": {},
   "outputs": [
    {
     "data": {
      "text/html": [
       "<div>\n",
       "<style scoped>\n",
       "    .dataframe tbody tr th:only-of-type {\n",
       "        vertical-align: middle;\n",
       "    }\n",
       "\n",
       "    .dataframe tbody tr th {\n",
       "        vertical-align: top;\n",
       "    }\n",
       "\n",
       "    .dataframe thead th {\n",
       "        text-align: right;\n",
       "    }\n",
       "</style>\n",
       "<table border=\"1\" class=\"dataframe\">\n",
       "  <thead>\n",
       "    <tr style=\"text-align: right;\">\n",
       "      <th></th>\n",
       "      <th>Severity</th>\n",
       "      <th>Start_Lat</th>\n",
       "      <th>Start_Lng</th>\n",
       "      <th>End_Lat</th>\n",
       "      <th>End_Lng</th>\n",
       "      <th>Distance(mi)</th>\n",
       "      <th>Temperature(F)</th>\n",
       "      <th>Wind_Chill(F)</th>\n",
       "      <th>Humidity(%)</th>\n",
       "      <th>Pressure(in)</th>\n",
       "      <th>Visibility(mi)</th>\n",
       "      <th>Wind_Speed(mph)</th>\n",
       "      <th>Precipitation(in)</th>\n",
       "    </tr>\n",
       "  </thead>\n",
       "  <tbody>\n",
       "    <tr>\n",
       "      <th>count</th>\n",
       "      <td>7.728394e+06</td>\n",
       "      <td>7.728394e+06</td>\n",
       "      <td>7.728394e+06</td>\n",
       "      <td>4.325632e+06</td>\n",
       "      <td>4.325632e+06</td>\n",
       "      <td>7.728394e+06</td>\n",
       "      <td>7.564541e+06</td>\n",
       "      <td>5.729375e+06</td>\n",
       "      <td>7.554250e+06</td>\n",
       "      <td>7.587715e+06</td>\n",
       "      <td>7.551296e+06</td>\n",
       "      <td>7.157161e+06</td>\n",
       "      <td>5.524808e+06</td>\n",
       "    </tr>\n",
       "    <tr>\n",
       "      <th>mean</th>\n",
       "      <td>2.212384e+00</td>\n",
       "      <td>3.620119e+01</td>\n",
       "      <td>-9.470255e+01</td>\n",
       "      <td>3.626183e+01</td>\n",
       "      <td>-9.572557e+01</td>\n",
       "      <td>5.618423e-01</td>\n",
       "      <td>6.166329e+01</td>\n",
       "      <td>5.825105e+01</td>\n",
       "      <td>6.483104e+01</td>\n",
       "      <td>2.953899e+01</td>\n",
       "      <td>9.090376e+00</td>\n",
       "      <td>7.685490e+00</td>\n",
       "      <td>8.407210e-03</td>\n",
       "    </tr>\n",
       "    <tr>\n",
       "      <th>std</th>\n",
       "      <td>4.875313e-01</td>\n",
       "      <td>5.076079e+00</td>\n",
       "      <td>1.739176e+01</td>\n",
       "      <td>5.272905e+00</td>\n",
       "      <td>1.810793e+01</td>\n",
       "      <td>1.776811e+00</td>\n",
       "      <td>1.901365e+01</td>\n",
       "      <td>2.238983e+01</td>\n",
       "      <td>2.282097e+01</td>\n",
       "      <td>1.006190e+00</td>\n",
       "      <td>2.688316e+00</td>\n",
       "      <td>5.424983e+00</td>\n",
       "      <td>1.102246e-01</td>\n",
       "    </tr>\n",
       "    <tr>\n",
       "      <th>min</th>\n",
       "      <td>1.000000e+00</td>\n",
       "      <td>2.455480e+01</td>\n",
       "      <td>-1.246238e+02</td>\n",
       "      <td>2.456601e+01</td>\n",
       "      <td>-1.245457e+02</td>\n",
       "      <td>0.000000e+00</td>\n",
       "      <td>-8.900000e+01</td>\n",
       "      <td>-8.900000e+01</td>\n",
       "      <td>1.000000e+00</td>\n",
       "      <td>0.000000e+00</td>\n",
       "      <td>0.000000e+00</td>\n",
       "      <td>0.000000e+00</td>\n",
       "      <td>0.000000e+00</td>\n",
       "    </tr>\n",
       "    <tr>\n",
       "      <th>25%</th>\n",
       "      <td>2.000000e+00</td>\n",
       "      <td>3.339963e+01</td>\n",
       "      <td>-1.172194e+02</td>\n",
       "      <td>3.346207e+01</td>\n",
       "      <td>-1.177543e+02</td>\n",
       "      <td>0.000000e+00</td>\n",
       "      <td>4.900000e+01</td>\n",
       "      <td>4.300000e+01</td>\n",
       "      <td>4.800000e+01</td>\n",
       "      <td>2.937000e+01</td>\n",
       "      <td>1.000000e+01</td>\n",
       "      <td>4.600000e+00</td>\n",
       "      <td>0.000000e+00</td>\n",
       "    </tr>\n",
       "    <tr>\n",
       "      <th>50%</th>\n",
       "      <td>2.000000e+00</td>\n",
       "      <td>3.582397e+01</td>\n",
       "      <td>-8.776662e+01</td>\n",
       "      <td>3.618349e+01</td>\n",
       "      <td>-8.802789e+01</td>\n",
       "      <td>3.000000e-02</td>\n",
       "      <td>6.400000e+01</td>\n",
       "      <td>6.200000e+01</td>\n",
       "      <td>6.700000e+01</td>\n",
       "      <td>2.986000e+01</td>\n",
       "      <td>1.000000e+01</td>\n",
       "      <td>7.000000e+00</td>\n",
       "      <td>0.000000e+00</td>\n",
       "    </tr>\n",
       "    <tr>\n",
       "      <th>75%</th>\n",
       "      <td>2.000000e+00</td>\n",
       "      <td>4.008496e+01</td>\n",
       "      <td>-8.035368e+01</td>\n",
       "      <td>4.017892e+01</td>\n",
       "      <td>-8.024709e+01</td>\n",
       "      <td>4.640000e-01</td>\n",
       "      <td>7.600000e+01</td>\n",
       "      <td>7.500000e+01</td>\n",
       "      <td>8.400000e+01</td>\n",
       "      <td>3.003000e+01</td>\n",
       "      <td>1.000000e+01</td>\n",
       "      <td>1.040000e+01</td>\n",
       "      <td>0.000000e+00</td>\n",
       "    </tr>\n",
       "    <tr>\n",
       "      <th>max</th>\n",
       "      <td>4.000000e+00</td>\n",
       "      <td>4.900220e+01</td>\n",
       "      <td>-6.711317e+01</td>\n",
       "      <td>4.907500e+01</td>\n",
       "      <td>-6.710924e+01</td>\n",
       "      <td>4.417500e+02</td>\n",
       "      <td>2.070000e+02</td>\n",
       "      <td>2.070000e+02</td>\n",
       "      <td>1.000000e+02</td>\n",
       "      <td>5.863000e+01</td>\n",
       "      <td>1.400000e+02</td>\n",
       "      <td>1.087000e+03</td>\n",
       "      <td>3.647000e+01</td>\n",
       "    </tr>\n",
       "  </tbody>\n",
       "</table>\n",
       "</div>"
      ],
      "text/plain": [
       "           Severity     Start_Lat     Start_Lng       End_Lat       End_Lng  \\\n",
       "count  7.728394e+06  7.728394e+06  7.728394e+06  4.325632e+06  4.325632e+06   \n",
       "mean   2.212384e+00  3.620119e+01 -9.470255e+01  3.626183e+01 -9.572557e+01   \n",
       "std    4.875313e-01  5.076079e+00  1.739176e+01  5.272905e+00  1.810793e+01   \n",
       "min    1.000000e+00  2.455480e+01 -1.246238e+02  2.456601e+01 -1.245457e+02   \n",
       "25%    2.000000e+00  3.339963e+01 -1.172194e+02  3.346207e+01 -1.177543e+02   \n",
       "50%    2.000000e+00  3.582397e+01 -8.776662e+01  3.618349e+01 -8.802789e+01   \n",
       "75%    2.000000e+00  4.008496e+01 -8.035368e+01  4.017892e+01 -8.024709e+01   \n",
       "max    4.000000e+00  4.900220e+01 -6.711317e+01  4.907500e+01 -6.710924e+01   \n",
       "\n",
       "       Distance(mi)  Temperature(F)  Wind_Chill(F)   Humidity(%)  \\\n",
       "count  7.728394e+06    7.564541e+06   5.729375e+06  7.554250e+06   \n",
       "mean   5.618423e-01    6.166329e+01   5.825105e+01  6.483104e+01   \n",
       "std    1.776811e+00    1.901365e+01   2.238983e+01  2.282097e+01   \n",
       "min    0.000000e+00   -8.900000e+01  -8.900000e+01  1.000000e+00   \n",
       "25%    0.000000e+00    4.900000e+01   4.300000e+01  4.800000e+01   \n",
       "50%    3.000000e-02    6.400000e+01   6.200000e+01  6.700000e+01   \n",
       "75%    4.640000e-01    7.600000e+01   7.500000e+01  8.400000e+01   \n",
       "max    4.417500e+02    2.070000e+02   2.070000e+02  1.000000e+02   \n",
       "\n",
       "       Pressure(in)  Visibility(mi)  Wind_Speed(mph)  Precipitation(in)  \n",
       "count  7.587715e+06    7.551296e+06     7.157161e+06       5.524808e+06  \n",
       "mean   2.953899e+01    9.090376e+00     7.685490e+00       8.407210e-03  \n",
       "std    1.006190e+00    2.688316e+00     5.424983e+00       1.102246e-01  \n",
       "min    0.000000e+00    0.000000e+00     0.000000e+00       0.000000e+00  \n",
       "25%    2.937000e+01    1.000000e+01     4.600000e+00       0.000000e+00  \n",
       "50%    2.986000e+01    1.000000e+01     7.000000e+00       0.000000e+00  \n",
       "75%    3.003000e+01    1.000000e+01     1.040000e+01       0.000000e+00  \n",
       "max    5.863000e+01    1.400000e+02     1.087000e+03       3.647000e+01  "
      ]
     },
     "execution_count": 6,
     "metadata": {},
     "output_type": "execute_result"
    }
   ],
   "source": [
    "df.describe()"
   ]
  },
  {
   "cell_type": "code",
   "execution_count": null,
   "metadata": {},
   "outputs": [
    {
     "name": "stdout",
     "output_type": "stream",
     "text": [
      "<class 'pandas.core.frame.DataFrame'>\n",
      "RangeIndex: 7728394 entries, 0 to 7728393\n",
      "Data columns (total 46 columns):\n",
      " #   Column                 Dtype  \n",
      "---  ------                 -----  \n",
      " 0   ID                     object \n",
      " 1   Source                 object \n",
      " 2   Severity               int64  \n",
      " 3   Start_Time             object \n",
      " 4   End_Time               object \n",
      " 5   Start_Lat              float64\n",
      " 6   Start_Lng              float64\n",
      " 7   End_Lat                float64\n",
      " 8   End_Lng                float64\n",
      " 9   Distance(mi)           float64\n",
      " 10  Description            object \n",
      " 11  Street                 object \n",
      " 12  City                   object \n",
      " 13  County                 object \n",
      " 14  State                  object \n",
      " 15  Zipcode                object \n",
      " 16  Country                object \n",
      " 17  Timezone               object \n",
      " 18  Airport_Code           object \n",
      " 19  Weather_Timestamp      object \n",
      " 20  Temperature(F)         float64\n",
      " 21  Wind_Chill(F)          float64\n",
      " 22  Humidity(%)            float64\n",
      " 23  Pressure(in)           float64\n",
      " 24  Visibility(mi)         float64\n",
      " 25  Wind_Direction         object \n",
      " 26  Wind_Speed(mph)        float64\n",
      " 27  Precipitation(in)      float64\n",
      " 28  Weather_Condition      object \n",
      " 29  Amenity                bool   \n",
      " 30  Bump                   bool   \n",
      " 31  Crossing               bool   \n",
      " 32  Give_Way               bool   \n",
      " 33  Junction               bool   \n",
      " 34  No_Exit                bool   \n",
      " 35  Railway                bool   \n",
      " 36  Roundabout             bool   \n",
      " 37  Station                bool   \n",
      " 38  Stop                   bool   \n",
      " 39  Traffic_Calming        bool   \n",
      " 40  Traffic_Signal         bool   \n",
      " 41  Turning_Loop           bool   \n",
      " 42  Sunrise_Sunset         object \n",
      " 43  Civil_Twilight         object \n",
      " 44  Nautical_Twilight      object \n",
      " 45  Astronomical_Twilight  object \n",
      "dtypes: bool(13), float64(12), int64(1), object(20)\n",
      "memory usage: 2.0+ GB\n"
     ]
    }
   ],
   "source": [
    "df.info()"
   ]
  },
  {
   "cell_type": "markdown",
   "metadata": {},
   "source": [
    "## Ask and answer questions\n",
    "\n",
    "1. Are there more accidents in warmer or colder areas?\n",
    "2. Which 5 states have the highest number of accidents? How about per capita?\n",
    "3. Does New York show up in data? If yes, why is the count of accidents low if New York is one of the most populates city?\n",
    "4. Among the top 100 cities in number of accidents, which states do they belong to?\n",
    "5. What time of the day are accidents most frequent at?\n",
    "6. Which day of the week have most accidents?\n",
    "7. Which month has the most accidents?\n",
    "8. What is the trend of accidents year over year(decreasing/increasing)?"
   ]
  },
  {
   "cell_type": "code",
   "execution_count": null,
   "metadata": {},
   "outputs": [
    {
     "name": "stdout",
     "output_type": "stream",
     "text": [
      "13\n"
     ]
    }
   ],
   "source": [
    "numerics = ['int16', 'int32', 'int64','float32', 'float64', 'float16']\n",
    "\n",
    "numeric_df = df.select_dtypes(include=numerics)\n",
    "print(len(numeric_df.columns))"
   ]
  },
  {
   "cell_type": "code",
   "execution_count": null,
   "metadata": {},
   "outputs": [
    {
     "data": {
      "text/plain": [
       "End_Lng                  4.402935e-01\n",
       "End_Lat                  4.402935e-01\n",
       "Precipitation(in)        2.851286e-01\n",
       "Wind_Chill(F)            2.586590e-01\n",
       "Wind_Speed(mph)          7.391355e-02\n",
       "Visibility(mi)           2.291524e-02\n",
       "Wind_Direction           2.267043e-02\n",
       "Humidity(%)              2.253301e-02\n",
       "Weather_Condition        2.244438e-02\n",
       "Temperature(F)           2.120143e-02\n",
       "Pressure(in)             1.820288e-02\n",
       "Weather_Timestamp        1.555666e-02\n",
       "Sunrise_Sunset           3.007869e-03\n",
       "Civil_Twilight           3.007869e-03\n",
       "Astronomical_Twilight    3.007869e-03\n",
       "Nautical_Twilight        3.007869e-03\n",
       "Airport_Code             2.928810e-03\n",
       "Street                   1.406372e-03\n",
       "Timezone                 1.010300e-03\n",
       "Zipcode                  2.477876e-04\n",
       "City                     3.273643e-05\n",
       "Description              6.469649e-07\n",
       "ID                       0.000000e+00\n",
       "Distance(mi)             0.000000e+00\n",
       "Start_Lng                0.000000e+00\n",
       "Source                   0.000000e+00\n",
       "Severity                 0.000000e+00\n",
       "Start_Time               0.000000e+00\n",
       "End_Time                 0.000000e+00\n",
       "Start_Lat                0.000000e+00\n",
       "County                   0.000000e+00\n",
       "Amenity                  0.000000e+00\n",
       "Country                  0.000000e+00\n",
       "State                    0.000000e+00\n",
       "Bump                     0.000000e+00\n",
       "Crossing                 0.000000e+00\n",
       "Give_Way                 0.000000e+00\n",
       "Junction                 0.000000e+00\n",
       "Station                  0.000000e+00\n",
       "Roundabout               0.000000e+00\n",
       "Railway                  0.000000e+00\n",
       "No_Exit                  0.000000e+00\n",
       "Turning_Loop             0.000000e+00\n",
       "Traffic_Signal           0.000000e+00\n",
       "Traffic_Calming          0.000000e+00\n",
       "Stop                     0.000000e+00\n",
       "dtype: float64"
      ]
     },
     "execution_count": 9,
     "metadata": {},
     "output_type": "execute_result"
    }
   ],
   "source": [
    "missing_percentages = df.isna().sum().sort_values(ascending=False) / len(df)\n",
    "missing_percentages"
   ]
  },
  {
   "cell_type": "code",
   "execution_count": null,
   "metadata": {},
   "outputs": [
    {
     "data": {
      "text/plain": [
       "pandas.core.series.Series"
      ]
     },
     "execution_count": 10,
     "metadata": {},
     "output_type": "execute_result"
    }
   ],
   "source": [
    "type(missing_percentages)"
   ]
  },
  {
   "cell_type": "code",
   "execution_count": null,
   "metadata": {},
   "outputs": [
    {
     "data": {
      "text/plain": [
       "<Axes: >"
      ]
     },
     "execution_count": 11,
     "metadata": {},
     "output_type": "execute_result"
    },
    {
     "data": {
      "image/png": "[encoded data removed]",
      "text/plain": [
       "<Figure size 640x480 with 1 Axes>"
      ]
     },
     "metadata": {},
     "output_type": "display_data"
    }
   ],
   "source": [
    "import matplotlib.pyplot as plt\n",
    "missing_percentages.plot(kind = 'barh')"
   ]
  },
  {
   "cell_type": "code",
   "execution_count": null,
   "metadata": {},
   "outputs": [
    {
     "data": {
      "text/plain": [
       "<Axes: >"
      ]
     },
     "execution_count": 12,
     "metadata": {},
     "output_type": "execute_result"
    },
    {
     "data": {
      "image/png": "[encoded data removed]",
      "text/plain": [
       "<Figure size 640x480 with 1 Axes>"
      ]
     },
     "metadata": {},
     "output_type": "display_data"
    }
   ],
   "source": [
    "missing_percentages[missing_percentages != 0].plot(kind = 'barh')"
   ]
  },
  {
   "cell_type": "markdown",
   "metadata": {},
   "source": [
    "### Remove columns you dont want to use\n",
    "\n",
    "we will analyze:\n",
    "1. City\n",
    "2. Start_Time\n",
    "3. Startlat, start Lng\n",
    "4. Temperature\n",
    "5. Weather Conditions"
   ]
  },
  {
   "cell_type": "markdown",
   "metadata": {},
   "source": [
    "## City"
   ]
  },
  {
   "cell_type": "code",
   "execution_count": null,
   "metadata": {},
   "outputs": [
    {
     "data": {
      "text/plain": [
       "array(['Dayton', 'Reynoldsburg', 'Williamsburg', 'Westerville',\n",
       "       'Columbus', 'Miamisburg', 'Johnstown', 'Dublin',\n",
       "       'Canal Winchester', 'Lebanon', 'Sabina', 'Goshen', 'Waynesville',\n",
       "       'Springboro', 'Carroll', 'Oregonia', 'Independence',\n",
       "       'Maple Heights', 'Grove City', 'Findlay', 'Fairborn', 'Piqua',\n",
       "       'New Richmond', 'Batavia', 'Galena', 'Barberton', 'Akron',\n",
       "       'Mansfield', 'Cleveland', 'Bethel', 'Pataskala', 'Seville',\n",
       "       'Bellville', 'Troy', 'Wilmington', 'North Olmsted', 'Groveport',\n",
       "       'Orient', 'Tiro', 'Strongsville', 'Beavercreek', 'Circleville',\n",
       "       'Peebles', 'Hurricane', 'Xenia', 'Elyria', 'Pickerington',\n",
       "       'Burbank', 'Zanesville', 'North Baltimore', 'Mount Sterling',\n",
       "       'Tipp City', 'Moraine', 'Hilliard', 'Bowling Green', 'Maineville',\n",
       "       'Vermilion', 'Milford', 'Brookpark', 'Fraziers Bottom',\n",
       "       'Cambridge', 'Delaware', 'Moscow', 'Oberlin', 'Sardinia',\n",
       "       'Lewis Center', 'Urbancrest', 'Brecksville', 'Frankfort',\n",
       "       'Blanchester', 'Casstown', 'Lima', 'Amelia', 'Newark',\n",
       "       'Springfield', 'Vandalia', 'Galloway', 'Bloomingburg',\n",
       "       'Gallipolis', 'Lockbourne', 'Milan', 'Mason', 'Millersport',\n",
       "       'New Carlisle', 'Sunbury', 'Owensville', 'London', 'Vallejo',\n",
       "       'Hayward', 'Walnut Creek', 'Cupertino', 'San Jose', 'Pleasanton',\n",
       "       'San Francisco', 'Orinda', 'Livermore', 'Cotati', 'Concord',\n",
       "       'Sunnyvale', 'Sacramento'], dtype=object)"
      ]
     },
     "execution_count": 13,
     "metadata": {},
     "output_type": "execute_result"
    }
   ],
   "source": [
    "cities = df['City'].unique()\n",
    "cities[:100]"
   ]
  },
  {
   "cell_type": "code",
   "execution_count": null,
   "metadata": {},
   "outputs": [
    {
     "data": {
      "text/plain": [
       "13679"
      ]
     },
     "execution_count": 14,
     "metadata": {},
     "output_type": "execute_result"
    }
   ],
   "source": [
    "len(cities)"
   ]
  },
  {
   "cell_type": "code",
   "execution_count": null,
   "metadata": {},
   "outputs": [
    {
     "data": {
      "text/plain": [
       "City\n",
       "Miami          186917\n",
       "Houston        169609\n",
       "Los Angeles    156491\n",
       "Charlotte      138652\n",
       "Dallas         130939\n",
       "                ...  \n",
       "Saint Croix         1\n",
       "Masardis            1\n",
       "Okaton              1\n",
       "Wasta               1\n",
       "Adell               1\n",
       "Name: count, Length: 13678, dtype: int64"
      ]
     },
     "execution_count": 15,
     "metadata": {},
     "output_type": "execute_result"
    }
   ],
   "source": [
    "cities_by_accident = df.City.value_counts()\n",
    "cities_by_accident"
   ]
  },
  {
   "cell_type": "code",
   "execution_count": null,
   "metadata": {},
   "outputs": [
    {
     "data": {
      "text/plain": [
       "City\n",
       "Miami          186917\n",
       "Houston        169609\n",
       "Los Angeles    156491\n",
       "Charlotte      138652\n",
       "Dallas         130939\n",
       "Orlando        109733\n",
       "Austin          97359\n",
       "Raleigh         86079\n",
       "Nashville       72930\n",
       "Baton Rouge     71588\n",
       "Name: count, dtype: int64"
      ]
     },
     "execution_count": 16,
     "metadata": {},
     "output_type": "execute_result"
    }
   ],
   "source": [
    "cities_by_accident[:10]"
   ]
  },
  {
   "cell_type": "code",
   "execution_count": null,
   "metadata": {},
   "outputs": [
    {
     "data": {
      "text/plain": [
       "pandas.core.series.Series"
      ]
     },
     "execution_count": 17,
     "metadata": {},
     "output_type": "execute_result"
    }
   ],
   "source": [
    "type(cities_by_accident)"
   ]
  },
  {
   "cell_type": "code",
   "execution_count": null,
   "metadata": {},
   "outputs": [
    {
     "data": {
      "text/plain": [
       "[186917,\n",
       " 169609,\n",
       " 156491,\n",
       " 138652,\n",
       " 130939,\n",
       " 109733,\n",
       " 97359,\n",
       " 86079,\n",
       " 72930,\n",
       " 71588,\n",
       " 68186,\n",
       " 66264,\n",
       " 55504,\n",
       " 53974,\n",
       " 51488,\n",
       " 48845,\n",
       " 46092,\n",
       " 42447,\n",
       " 39304,\n",
       " 38178,\n",
       " 37961,\n",
       " 37802,\n",
       " 37383,\n",
       " 36564,\n",
       " 35399,\n",
       " 34536,\n",
       " 33219,\n",
       " 32035,\n",
       " 31193,\n",
       " 30557,\n",
       " 30107,\n",
       " 28880,\n",
       " 27410,\n",
       " 27354,\n",
       " 27297,\n",
       " 26866,\n",
       " 26205,\n",
       " 24865,\n",
       " 24764,\n",
       " 24674,\n",
       " 24572,\n",
       " 22311,\n",
       " 22216,\n",
       " 21990,\n",
       " 21699,\n",
       " 21573,\n",
       " 21390,\n",
       " 21363,\n",
       " 21293,\n",
       " 21146,\n",
       " 20844,\n",
       " 20658,\n",
       " 20505,\n",
       " 20463,\n",
       " 20433,\n",
       " 20167,\n",
       " 19766,\n",
       " 19642,\n",
       " 18633,\n",
       " 17775,\n",
       " 17347,\n",
       " 17200,\n",
       " 17048,\n",
       " 16947,\n",
       " 16671,\n",
       " 16644,\n",
       " 16617,\n",
       " 16570,\n",
       " 16430,\n",
       " 16247,\n",
       " 16052,\n",
       " 15752,\n",
       " 15680,\n",
       " 15494,\n",
       " 15481,\n",
       " 15411,\n",
       " 14474,\n",
       " 14226,\n",
       " 13926,\n",
       " 13794,\n",
       " 13269,\n",
       " 13037,\n",
       " 12990,\n",
       " 12790,\n",
       " 12734,\n",
       " 12410,\n",
       " 12314,\n",
       " 12238,\n",
       " 12089,\n",
       " 11900,\n",
       " 11878,\n",
       " 11754,\n",
       " 11071,\n",
       " 10913,\n",
       " 10746,\n",
       " 10555,\n",
       " 10422,\n",
       " 10401,\n",
       " 10374,\n",
       " 10338,\n",
       " 10293,\n",
       " 10279,\n",
       " 10169,\n",
       " 10051,\n",
       " 10044,\n",
       " 9921,\n",
       " 9906,\n",
       " 9706,\n",
       " 9531,\n",
       " 9479,\n",
       " 9456,\n",
       " 9412,\n",
       " 9388,\n",
       " 9314,\n",
       " 9260,\n",
       " 9255,\n",
       " 9223,\n",
       " 9128,\n",
       " 9108,\n",
       " 9050,\n",
       " 9010,\n",
       " 8850,\n",
       " 8735,\n",
       " 8699,\n",
       " 8555,\n",
       " 8521,\n",
       " 8435,\n",
       " 8420,\n",
       " 8380,\n",
       " 8228,\n",
       " 8210,\n",
       " 8070,\n",
       " 8004,\n",
       " 7931,\n",
       " 7926,\n",
       " 7882,\n",
       " 7868,\n",
       " 7820,\n",
       " 7758,\n",
       " 7695,\n",
       " 7651,\n",
       " 7633,\n",
       " 7601,\n",
       " 7586,\n",
       " 7575,\n",
       " 7451,\n",
       " 7385,\n",
       " 7356,\n",
       " 7318,\n",
       " 7314,\n",
       " 7256,\n",
       " 7219,\n",
       " 7212,\n",
       " 7113,\n",
       " 7082,\n",
       " 7074,\n",
       " 6965,\n",
       " 6943,\n",
       " 6940,\n",
       " 6898,\n",
       " 6895,\n",
       " 6886,\n",
       " 6882,\n",
       " 6878,\n",
       " 6857,\n",
       " 6846,\n",
       " 6779,\n",
       " 6757,\n",
       " 6753,\n",
       " 6695,\n",
       " 6660,\n",
       " 6647,\n",
       " 6572,\n",
       " 6537,\n",
       " 6516,\n",
       " 6381,\n",
       " 6360,\n",
       " 6350,\n",
       " 6255,\n",
       " 6204,\n",
       " 6203,\n",
       " 6134,\n",
       " 6121,\n",
       " 6106,\n",
       " 6091,\n",
       " 6027,\n",
       " 6004,\n",
       " 5969,\n",
       " 5962,\n",
       " 5957,\n",
       " 5948,\n",
       " 5872,\n",
       " 5867,\n",
       " 5837,\n",
       " 5818,\n",
       " 5806,\n",
       " 5725,\n",
       " 5722,\n",
       " 5703,\n",
       " 5686,\n",
       " 5657,\n",
       " 5650,\n",
       " 5632,\n",
       " 5565,\n",
       " 5489,\n",
       " 5484,\n",
       " 5468,\n",
       " 5465,\n",
       " 5465,\n",
       " 5434,\n",
       " 5414,\n",
       " 5393,\n",
       " 5391,\n",
       " 5303,\n",
       " 5264,\n",
       " 5241,\n",
       " 5199,\n",
       " 5186,\n",
       " 5181,\n",
       " 5154,\n",
       " 5141,\n",
       " 5105,\n",
       " 5090,\n",
       " 5072,\n",
       " 5047,\n",
       " 5046,\n",
       " 5041,\n",
       " 5023,\n",
       " 5023,\n",
       " 5018,\n",
       " 5011,\n",
       " 4980,\n",
       " 4953,\n",
       " 4950,\n",
       " 4924,\n",
       " 4890,\n",
       " 4879,\n",
       " 4840,\n",
       " 4798,\n",
       " 4798,\n",
       " 4784,\n",
       " 4742,\n",
       " 4737,\n",
       " 4716,\n",
       " 4691,\n",
       " 4683,\n",
       " 4665,\n",
       " 4652,\n",
       " 4614,\n",
       " 4602,\n",
       " 4582,\n",
       " 4578,\n",
       " 4575,\n",
       " 4571,\n",
       " 4569,\n",
       " 4566,\n",
       " 4552,\n",
       " 4549,\n",
       " 4545,\n",
       " 4540,\n",
       " 4496,\n",
       " 4487,\n",
       " 4473,\n",
       " 4471,\n",
       " 4413,\n",
       " 4387,\n",
       " 4364,\n",
       " 4351,\n",
       " 4346,\n",
       " 4325,\n",
       " 4300,\n",
       " 4257,\n",
       " 4256,\n",
       " 4249,\n",
       " 4246,\n",
       " 4232,\n",
       " 4221,\n",
       " 4214,\n",
       " 4192,\n",
       " 4180,\n",
       " 4169,\n",
       " 4157,\n",
       " 4156,\n",
       " 4145,\n",
       " 4124,\n",
       " 4113,\n",
       " 4107,\n",
       " 4106,\n",
       " 4105,\n",
       " 4080,\n",
       " 4041,\n",
       " 4035,\n",
       " 3992,\n",
       " 3977,\n",
       " 3973,\n",
       " 3971,\n",
       " 3942,\n",
       " 3939,\n",
       " 3923,\n",
       " 3917,\n",
       " 3914,\n",
       " 3900,\n",
       " 3900,\n",
       " 3898,\n",
       " 3883,\n",
       " 3875,\n",
       " 3873,\n",
       " 3854,\n",
       " 3848,\n",
       " 3845,\n",
       " 3841,\n",
       " 3838,\n",
       " 3796,\n",
       " 3795,\n",
       " 3781,\n",
       " 3777,\n",
       " 3774,\n",
       " 3769,\n",
       " 3767,\n",
       " 3750,\n",
       " 3746,\n",
       " 3745,\n",
       " 3738,\n",
       " 3732,\n",
       " 3731,\n",
       " 3725,\n",
       " 3710,\n",
       " 3704,\n",
       " 3703,\n",
       " 3699,\n",
       " 3695,\n",
       " 3683,\n",
       " 3669,\n",
       " 3668,\n",
       " 3665,\n",
       " 3658,\n",
       " 3615,\n",
       " 3606,\n",
       " 3598,\n",
       " 3595,\n",
       " 3558,\n",
       " 3555,\n",
       " 3552,\n",
       " 3551,\n",
       " 3540,\n",
       " 3532,\n",
       " 3517,\n",
       " 3504,\n",
       " 3502,\n",
       " 3482,\n",
       " 3481,\n",
       " 3471,\n",
       " 3468,\n",
       " 3465,\n",
       " 3462,\n",
       " 3439,\n",
       " 3438,\n",
       " 3434,\n",
       " 3431,\n",
       " 3430,\n",
       " 3424,\n",
       " 3386,\n",
       " 3382,\n",
       " 3371,\n",
       " 3352,\n",
       " 3338,\n",
       " 3333,\n",
       " 3323,\n",
       " 3316,\n",
       " 3312,\n",
       " 3308,\n",
       " 3297,\n",
       " 3253,\n",
       " 3250,\n",
       " 3248,\n",
       " 3245,\n",
       " 3242,\n",
       " 3241,\n",
       " 3239,\n",
       " 3238,\n",
       " 3237,\n",
       " 3231,\n",
       " 3230,\n",
       " 3229,\n",
       " 3213,\n",
       " 3212,\n",
       " 3212,\n",
       " 3212,\n",
       " 3206,\n",
       " 3198,\n",
       " 3191,\n",
       " 3189,\n",
       " 3188,\n",
       " 3181,\n",
       " 3179,\n",
       " 3160,\n",
       " 3148,\n",
       " 3135,\n",
       " 3135,\n",
       " 3127,\n",
       " 3126,\n",
       " 3126,\n",
       " 3125,\n",
       " 3122,\n",
       " 3112,\n",
       " 3094,\n",
       " 3068,\n",
       " 3052,\n",
       " 3048,\n",
       " 3048,\n",
       " 3047,\n",
       " 3037,\n",
       " 3034,\n",
       " 3033,\n",
       " 3028,\n",
       " 3026,\n",
       " 3026,\n",
       " 3026,\n",
       " 3022,\n",
       " 3012,\n",
       " 3010,\n",
       " 3009,\n",
       " 3003,\n",
       " 2989,\n",
       " 2986,\n",
       " 2984,\n",
       " 2983,\n",
       " 2983,\n",
       " 2983,\n",
       " 2981,\n",
       " 2978,\n",
       " 2977,\n",
       " 2969,\n",
       " 2953,\n",
       " 2943,\n",
       " 2943,\n",
       " 2942,\n",
       " 2941,\n",
       " 2930,\n",
       " 2922,\n",
       " 2913,\n",
       " 2912,\n",
       " 2912,\n",
       " 2912,\n",
       " 2908,\n",
       " 2907,\n",
       " 2898,\n",
       " 2895,\n",
       " 2890,\n",
       " 2885,\n",
       " 2885,\n",
       " 2881,\n",
       " 2881,\n",
       " 2879,\n",
       " 2878,\n",
       " 2875,\n",
       " 2872,\n",
       " 2868,\n",
       " 2867,\n",
       " 2867,\n",
       " 2860,\n",
       " 2857,\n",
       " 2854,\n",
       " 2852,\n",
       " 2833,\n",
       " 2827,\n",
       " 2823,\n",
       " 2803,\n",
       " 2794,\n",
       " 2777,\n",
       " 2777,\n",
       " 2771,\n",
       " 2759,\n",
       " 2757,\n",
       " 2756,\n",
       " 2751,\n",
       " 2747,\n",
       " 2738,\n",
       " 2737,\n",
       " 2730,\n",
       " 2725,\n",
       " 2724,\n",
       " 2724,\n",
       " 2717,\n",
       " 2713,\n",
       " 2706,\n",
       " 2703,\n",
       " 2696,\n",
       " 2695,\n",
       " 2694,\n",
       " 2688,\n",
       " 2681,\n",
       " 2680,\n",
       " 2674,\n",
       " 2669,\n",
       " 2663,\n",
       " 2663,\n",
       " 2654,\n",
       " 2652,\n",
       " 2652,\n",
       " 2651,\n",
       " 2649,\n",
       " 2648,\n",
       " 2642,\n",
       " 2639,\n",
       " 2634,\n",
       " 2631,\n",
       " 2629,\n",
       " 2628,\n",
       " 2628,\n",
       " 2622,\n",
       " 2618,\n",
       " 2616,\n",
       " 2609,\n",
       " 2605,\n",
       " 2602,\n",
       " 2602,\n",
       " 2598,\n",
       " 2593,\n",
       " 2593,\n",
       " 2581,\n",
       " 2578,\n",
       " 2576,\n",
       " 2572,\n",
       " 2567,\n",
       " 2566,\n",
       " 2562,\n",
       " 2555,\n",
       " 2548,\n",
       " 2543,\n",
       " 2540,\n",
       " 2539,\n",
       " 2524,\n",
       " 2523,\n",
       " 2514,\n",
       " 2510,\n",
       " 2508,\n",
       " 2505,\n",
       " 2486,\n",
       " 2480,\n",
       " 2452,\n",
       " 2445,\n",
       " 2444,\n",
       " 2440,\n",
       " 2430,\n",
       " 2430,\n",
       " 2418,\n",
       " 2405,\n",
       " 2400,\n",
       " 2395,\n",
       " 2394,\n",
       " 2393,\n",
       " 2387,\n",
       " 2383,\n",
       " 2381,\n",
       " 2381,\n",
       " 2381,\n",
       " 2381,\n",
       " 2368,\n",
       " 2364,\n",
       " 2359,\n",
       " 2357,\n",
       " 2356,\n",
       " 2353,\n",
       " 2351,\n",
       " 2336,\n",
       " 2336,\n",
       " 2333,\n",
       " 2323,\n",
       " 2313,\n",
       " 2311,\n",
       " 2310,\n",
       " 2306,\n",
       " 2304,\n",
       " 2292,\n",
       " 2291,\n",
       " 2290,\n",
       " 2290,\n",
       " 2288,\n",
       " 2280,\n",
       " 2260,\n",
       " 2260,\n",
       " 2255,\n",
       " 2235,\n",
       " 2235,\n",
       " 2234,\n",
       " 2234,\n",
       " 2225,\n",
       " 2222,\n",
       " 2216,\n",
       " 2202,\n",
       " 2200,\n",
       " 2199,\n",
       " 2198,\n",
       " 2194,\n",
       " 2194,\n",
       " 2193,\n",
       " 2182,\n",
       " 2181,\n",
       " 2177,\n",
       " 2168,\n",
       " 2167,\n",
       " 2161,\n",
       " 2160,\n",
       " 2159,\n",
       " 2158,\n",
       " 2157,\n",
       " 2148,\n",
       " 2143,\n",
       " 2138,\n",
       " 2135,\n",
       " 2121,\n",
       " 2107,\n",
       " 2095,\n",
       " 2091,\n",
       " 2088,\n",
       " 2087,\n",
       " 2085,\n",
       " 2081,\n",
       " 2081,\n",
       " 2080,\n",
       " 2076,\n",
       " 2065,\n",
       " 2063,\n",
       " 2059,\n",
       " 2053,\n",
       " 2053,\n",
       " 2047,\n",
       " 2040,\n",
       " 2028,\n",
       " 2028,\n",
       " 2027,\n",
       " 2026,\n",
       " 2026,\n",
       " 2025,\n",
       " 2023,\n",
       " 2022,\n",
       " 2022,\n",
       " 2022,\n",
       " 2018,\n",
       " 2016,\n",
       " 2015,\n",
       " 2011,\n",
       " 2009,\n",
       " 2008,\n",
       " 2008,\n",
       " 2008,\n",
       " 2005,\n",
       " 2001,\n",
       " 1997,\n",
       " 1995,\n",
       " 1993,\n",
       " 1992,\n",
       " 1992,\n",
       " 1989,\n",
       " 1989,\n",
       " 1985,\n",
       " 1978,\n",
       " 1972,\n",
       " 1970,\n",
       " 1970,\n",
       " 1966,\n",
       " 1966,\n",
       " 1964,\n",
       " 1964,\n",
       " 1963,\n",
       " 1956,\n",
       " 1955,\n",
       " 1952,\n",
       " 1943,\n",
       " 1941,\n",
       " 1940,\n",
       " 1939,\n",
       " 1932,\n",
       " 1929,\n",
       " 1927,\n",
       " 1926,\n",
       " 1924,\n",
       " 1922,\n",
       " 1915,\n",
       " 1907,\n",
       " 1905,\n",
       " 1904,\n",
       " 1900,\n",
       " 1899,\n",
       " 1898,\n",
       " 1897,\n",
       " 1895,\n",
       " 1892,\n",
       " 1890,\n",
       " 1886,\n",
       " 1881,\n",
       " 1875,\n",
       " 1872,\n",
       " 1869,\n",
       " 1868,\n",
       " 1866,\n",
       " 1864,\n",
       " 1856,\n",
       " 1852,\n",
       " 1848,\n",
       " 1845,\n",
       " 1844,\n",
       " 1839,\n",
       " 1838,\n",
       " 1834,\n",
       " 1834,\n",
       " 1833,\n",
       " 1831,\n",
       " 1831,\n",
       " 1825,\n",
       " 1824,\n",
       " 1819,\n",
       " 1817,\n",
       " 1817,\n",
       " 1817,\n",
       " 1815,\n",
       " 1815,\n",
       " 1805,\n",
       " 1803,\n",
       " 1800,\n",
       " 1799,\n",
       " 1796,\n",
       " 1786,\n",
       " 1784,\n",
       " 1782,\n",
       " 1778,\n",
       " 1777,\n",
       " 1775,\n",
       " 1775,\n",
       " 1773,\n",
       " 1773,\n",
       " 1771,\n",
       " 1769,\n",
       " 1766,\n",
       " 1764,\n",
       " 1762,\n",
       " 1761,\n",
       " 1758,\n",
       " 1758,\n",
       " 1756,\n",
       " 1756,\n",
       " 1753,\n",
       " 1753,\n",
       " 1753,\n",
       " 1750,\n",
       " 1750,\n",
       " 1749,\n",
       " 1749,\n",
       " 1747,\n",
       " 1743,\n",
       " 1743,\n",
       " 1742,\n",
       " 1739,\n",
       " 1737,\n",
       " 1737,\n",
       " 1733,\n",
       " 1733,\n",
       " 1732,\n",
       " 1729,\n",
       " 1727,\n",
       " 1725,\n",
       " 1722,\n",
       " 1719,\n",
       " 1715,\n",
       " 1709,\n",
       " 1707,\n",
       " 1706,\n",
       " 1705,\n",
       " 1704,\n",
       " 1691,\n",
       " 1691,\n",
       " 1690,\n",
       " 1689,\n",
       " 1688,\n",
       " 1687,\n",
       " 1686,\n",
       " 1685,\n",
       " 1684,\n",
       " 1679,\n",
       " 1674,\n",
       " 1669,\n",
       " 1667,\n",
       " 1664,\n",
       " 1663,\n",
       " 1661,\n",
       " 1660,\n",
       " 1658,\n",
       " 1653,\n",
       " 1652,\n",
       " 1651,\n",
       " 1648,\n",
       " 1644,\n",
       " 1641,\n",
       " 1637,\n",
       " 1637,\n",
       " 1632,\n",
       " 1632,\n",
       " 1631,\n",
       " 1628,\n",
       " 1625,\n",
       " 1624,\n",
       " 1624,\n",
       " 1623,\n",
       " 1619,\n",
       " 1615,\n",
       " 1612,\n",
       " 1612,\n",
       " 1609,\n",
       " 1608,\n",
       " 1604,\n",
       " 1603,\n",
       " 1596,\n",
       " 1596,\n",
       " 1591,\n",
       " 1591,\n",
       " 1585,\n",
       " 1582,\n",
       " 1582,\n",
       " 1579,\n",
       " 1577,\n",
       " 1576,\n",
       " 1574,\n",
       " 1572,\n",
       " 1569,\n",
       " 1569,\n",
       " 1569,\n",
       " 1568,\n",
       " 1566,\n",
       " 1562,\n",
       " 1562,\n",
       " 1552,\n",
       " 1549,\n",
       " 1547,\n",
       " 1547,\n",
       " 1547,\n",
       " 1543,\n",
       " 1540,\n",
       " 1534,\n",
       " 1531,\n",
       " 1526,\n",
       " 1526,\n",
       " 1524,\n",
       " 1523,\n",
       " 1520,\n",
       " 1519,\n",
       " 1518,\n",
       " 1517,\n",
       " 1515,\n",
       " 1510,\n",
       " 1507,\n",
       " 1507,\n",
       " 1507,\n",
       " 1507,\n",
       " 1505,\n",
       " 1504,\n",
       " 1502,\n",
       " 1501,\n",
       " 1501,\n",
       " 1500,\n",
       " 1500,\n",
       " 1499,\n",
       " 1498,\n",
       " 1497,\n",
       " 1496,\n",
       " 1493,\n",
       " 1491,\n",
       " 1490,\n",
       " 1485,\n",
       " 1483,\n",
       " 1481,\n",
       " 1481,\n",
       " 1478,\n",
       " 1478,\n",
       " 1477,\n",
       " 1474,\n",
       " 1469,\n",
       " 1467,\n",
       " 1467,\n",
       " 1466,\n",
       " 1466,\n",
       " 1464,\n",
       " 1461,\n",
       " 1460,\n",
       " 1459,\n",
       " 1455,\n",
       " 1454,\n",
       " 1453,\n",
       " 1453,\n",
       " 1452,\n",
       " 1448,\n",
       " 1447,\n",
       " 1445,\n",
       " 1445,\n",
       " 1443,\n",
       " 1441,\n",
       " 1440,\n",
       " 1437,\n",
       " 1435,\n",
       " 1432,\n",
       " 1429,\n",
       " 1429,\n",
       " 1427,\n",
       " 1422,\n",
       " 1421,\n",
       " 1420,\n",
       " 1418,\n",
       " 1418,\n",
       " 1414,\n",
       " 1413,\n",
       " 1413,\n",
       " 1412,\n",
       " 1411,\n",
       " 1410,\n",
       " 1410,\n",
       " 1409,\n",
       " 1408,\n",
       " 1407,\n",
       " 1407,\n",
       " 1407,\n",
       " 1406,\n",
       " 1405,\n",
       " 1404,\n",
       " 1404,\n",
       " 1399,\n",
       " 1399,\n",
       " 1398,\n",
       " 1396,\n",
       " 1394,\n",
       " 1393,\n",
       " 1391,\n",
       " 1390,\n",
       " 1388,\n",
       " 1388,\n",
       " 1387,\n",
       " 1385,\n",
       " 1383,\n",
       " 1380,\n",
       " 1376,\n",
       " 1374,\n",
       " 1374,\n",
       " 1372,\n",
       " 1371,\n",
       " 1369,\n",
       " 1368,\n",
       " 1367,\n",
       " 1361,\n",
       " 1360,\n",
       " 1358,\n",
       " 1357,\n",
       " 1357,\n",
       " 1355,\n",
       " 1351,\n",
       " 1351,\n",
       " 1348,\n",
       " 1348,\n",
       " 1347,\n",
       " 1346,\n",
       " 1344,\n",
       " 1343,\n",
       " 1343,\n",
       " 1340,\n",
       " 1340,\n",
       " 1338,\n",
       " 1337,\n",
       " 1337,\n",
       " 1336,\n",
       " 1334,\n",
       " 1332,\n",
       " 1331,\n",
       " 1331,\n",
       " 1329,\n",
       " 1326,\n",
       " 1323,\n",
       " 1317,\n",
       " 1317,\n",
       " 1316,\n",
       " 1314,\n",
       " 1313,\n",
       " 1312,\n",
       " 1311,\n",
       " 1310,\n",
       " 1309,\n",
       " 1309,\n",
       " 1307,\n",
       " 1306,\n",
       " 1304,\n",
       " 1304,\n",
       " 1303,\n",
       " 1301,\n",
       " 1301,\n",
       " 1295,\n",
       " 1295,\n",
       " 1294,\n",
       " 1292,\n",
       " 1289,\n",
       " 1287,\n",
       " 1286,\n",
       " 1285,\n",
       " 1285,\n",
       " ...]"
      ]
     },
     "execution_count": 18,
     "metadata": {},
     "output_type": "execute_result"
    }
   ],
   "source": [
    "list(cities_by_accident)"
   ]
  },
  {
   "cell_type": "code",
   "execution_count": null,
   "metadata": {},
   "outputs": [
    {
     "data": {
      "text/plain": [
       "<Axes: ylabel='City'>"
      ]
     },
     "execution_count": 19,
     "metadata": {},
     "output_type": "execute_result"
    },
    {
     "data": {
      "image/png": "[encoded data removed]",
      "text/plain": [
       "<Figure size 640x480 with 1 Axes>"
      ]
     },
     "metadata": {},
     "output_type": "display_data"
    }
   ],
   "source": [
    "cities_by_accident[:20].plot(kind = 'barh')"
   ]
  },
  {
   "cell_type": "code",
   "execution_count": null,
   "metadata": {},
   "outputs": [],
   "source": [
    "import seaborn as sns\n",
    "sns.set_style('darkgrid')"
   ]
  },
  {
   "cell_type": "code",
   "execution_count": null,
   "metadata": {},
   "outputs": [
    {
     "data": {
      "text/plain": [
       "<Axes: xlabel='count', ylabel='Count'>"
      ]
     },
     "execution_count": 21,
     "metadata": {},
     "output_type": "execute_result"
    },
    {
     "data": {
      "image/png": "[encoded data removed]",
      "text/plain": [
       "<Figure size 640x480 with 1 Axes>"
      ]
     },
     "metadata": {},
     "output_type": "display_data"
    }
   ],
   "source": [
    "sns.histplot(cities_by_accident, log_scale=True)"
   ]
  },
  {
   "cell_type": "code",
   "execution_count": null,
   "metadata": {},
   "outputs": [
    {
     "data": {
      "text/plain": [
       "City\n",
       "American Fork-Pleasant Grove    1\n",
       "Berlin township                 1\n",
       "District 1 Abingdon             1\n",
       "Selby                           1\n",
       "Smackover                       1\n",
       "                               ..\n",
       "Saint Croix                     1\n",
       "Masardis                        1\n",
       "Okaton                          1\n",
       "Wasta                           1\n",
       "Adell                           1\n",
       "Name: count, Length: 1023, dtype: int64"
      ]
     },
     "execution_count": 22,
     "metadata": {},
     "output_type": "execute_result"
    }
   ],
   "source": [
    "cities_by_accident[cities_by_accident == 1]"
   ]
  },
  {
   "cell_type": "code",
   "execution_count": null,
   "metadata": {},
   "outputs": [],
   "source": [
    "high_accident_cities = cities_by_accident[cities_by_accident >= 1000]\n",
    "low_accident_cities = cities_by_accident[cities_by_accident < 1000]"
   ]
  },
  {
   "cell_type": "code",
   "execution_count": null,
   "metadata": {},
   "outputs": [
    {
     "data": {
      "text/plain": [
       "8.904159660793917"
      ]
     },
     "execution_count": 24,
     "metadata": {},
     "output_type": "execute_result"
    }
   ],
   "source": [
    "len(high_accident_cities)/len(cities) * 100"
   ]
  },
  {
   "cell_type": "code",
   "execution_count": null,
   "metadata": {},
   "outputs": [
    {
     "data": {
      "text/plain": [
       "91.0885298632941"
      ]
     },
     "execution_count": 25,
     "metadata": {},
     "output_type": "execute_result"
    }
   ],
   "source": [
    "len(low_accident_cities)/len(cities) * 100"
   ]
  },
  {
   "cell_type": "code",
   "execution_count": null,
   "metadata": {},
   "outputs": [
    {
     "data": {
      "text/plain": [
       "<seaborn.axisgrid.FacetGrid at 0x1f19d34b620>"
      ]
     },
     "execution_count": 26,
     "metadata": {},
     "output_type": "execute_result"
    },
    {
     "data": {
      "image/png": "[encoded data removed]",
      "text/plain": [
       "<Figure size 500x500 with 1 Axes>"
      ]
     },
     "metadata": {},
     "output_type": "display_data"
    }
   ],
   "source": [
    "sns.displot(high_accident_cities)"
   ]
  },
  {
   "cell_type": "code",
   "execution_count": null,
   "metadata": {},
   "outputs": [
    {
     "data": {
      "text/plain": [
       "<seaborn.axisgrid.FacetGrid at 0x1f19de11df0>"
      ]
     },
     "execution_count": 27,
     "metadata": {},
     "output_type": "execute_result"
    },
    {
     "data": {
      "image/png": "[encoded data removed]",
      "text/plain": [
       "<Figure size 500x500 with 1 Axes>"
      ]
     },
     "metadata": {},
     "output_type": "display_data"
    }
   ],
   "source": [
    "sns.displot(low_accident_cities)"
   ]
  },
  {
   "cell_type": "code",
   "execution_count": null,
   "metadata": {},
   "outputs": [],
   "source": []
  },
  {
   "cell_type": "code",
   "execution_count": null,
   "metadata": {},
   "outputs": [],
   "source": []
  },
  {
   "cell_type": "markdown",
   "metadata": {},
   "source": [
    "### Summary and Conclusion\n",
    "\n",
    "1. No data from New York.\n",
    "2. Less than 10% cities have more than 1000 yearly accidents.\n",
    "3. More than 90% cities have less than 1000 yearly accidents.\n",
    "4. over 1000 cities have reported just 1 accident.\n",
    "5. The number of accidents decreases exponentially."
   ]
  },
  {
   "cell_type": "code",
   "execution_count": null,
   "metadata": {},
   "outputs": [
    {
     "data": {
      "text/plain": [
       "False"
      ]
     },
     "execution_count": 28,
     "metadata": {},
     "output_type": "execute_result"
    }
   ],
   "source": [
    "'New York' in df['City'] \n",
    "\n",
    "## dataset does not maintain data about New York"
   ]
  },
  {
   "cell_type": "markdown",
   "metadata": {},
   "source": [
    "## Start Time"
   ]
  },
  {
   "cell_type": "code",
   "execution_count": null,
   "metadata": {},
   "outputs": [
    {
     "data": {
      "text/plain": [
       "0          2016-02-08 05:46:00\n",
       "1          2016-02-08 06:07:59\n",
       "2          2016-02-08 06:49:27\n",
       "3          2016-02-08 07:23:34\n",
       "4          2016-02-08 07:39:07\n",
       "                  ...         \n",
       "7728389    2019-08-23 18:03:25\n",
       "7728390    2019-08-23 19:11:30\n",
       "7728391    2019-08-23 19:00:21\n",
       "7728392    2019-08-23 19:00:21\n",
       "7728393    2019-08-23 18:52:06\n",
       "Name: Start_Time, Length: 7728394, dtype: object"
      ]
     },
     "execution_count": 29,
     "metadata": {},
     "output_type": "execute_result"
    }
   ],
   "source": [
    "df['Start_Time']"
   ]
  },
  {
   "cell_type": "code",
   "execution_count": null,
   "metadata": {},
   "outputs": [],
   "source": [
    "df[\"Start_Time\"] = pd.to_datetime(df[\"Start_Time\"], format='ISO8601')"
   ]
  },
  {
   "cell_type": "code",
   "execution_count": null,
   "metadata": {},
   "outputs": [
    {
     "data": {
      "text/plain": [
       "Timestamp('2016-02-08 05:46:00')"
      ]
     },
     "execution_count": 35,
     "metadata": {},
     "output_type": "execute_result"
    }
   ],
   "source": [
    "df['Start_Time'][0]"
   ]
  },
  {
   "cell_type": "code",
   "execution_count": null,
   "metadata": {},
   "outputs": [
    {
     "data": {
      "text/plain": [
       "<seaborn.axisgrid.FacetGrid at 0x1f312c4a5a0>"
      ]
     },
     "execution_count": 47,
     "metadata": {},
     "output_type": "execute_result"
    },
    {
     "data": {
      "image/png": "[encoded data removed]",
      "text/plain": [
       "<Figure size 500x500 with 1 Axes>"
      ]
     },
     "metadata": {},
     "output_type": "display_data"
    }
   ],
   "source": [
    "sns.displot(df.Start_Time.dt.hour,bins=24, stat = 'percent')"
   ]
  },
  {
   "cell_type": "code",
   "execution_count": null,
   "metadata": {},
   "outputs": [
    {
     "data": {
      "text/plain": [
       "<seaborn.axisgrid.FacetGrid at 0x1f3134939b0>"
      ]
     },
     "execution_count": 48,
     "metadata": {},
     "output_type": "execute_result"
    },
    {
     "data": {
      "image/png": "[encoded data removed]",
      "text/plain": [
       "<Figure size 500x500 with 1 Axes>"
      ]
     },
     "metadata": {},
     "output_type": "display_data"
    }
   ],
   "source": [
    "sns.displot(df.Start_Time.dt.dayofweek,bins=7, stat = 'percent')"
   ]
  },
  {
   "cell_type": "code",
   "execution_count": null,
   "metadata": {},
   "outputs": [
    {
     "data": {
      "text/plain": [
       "<seaborn.axisgrid.FacetGrid at 0x1f31a205eb0>"
      ]
     },
     "execution_count": 51,
     "metadata": {},
     "output_type": "execute_result"
    },
    {
     "data": {
      "image/png": "[encoded data removed]",
      "text/plain": [
       "<Figure size 500x500 with 1 Axes>"
      ]
     },
     "metadata": {},
     "output_type": "display_data"
    }
   ],
   "source": [
    "sns.displot(df.Start_Time.dt.dayofyear, bins=12, stat='percent')"
   ]
  },
  {
   "cell_type": "code",
   "execution_count": null,
   "metadata": {},
   "outputs": [
    {
     "data": {
      "text/plain": [
       "0         2016-02-08 05:46:00\n",
       "1         2016-02-08 06:07:59\n",
       "2         2016-02-08 06:49:27\n",
       "3         2016-02-08 07:23:34\n",
       "4         2016-02-08 07:39:07\n",
       "                  ...        \n",
       "7726332   2019-08-19 20:43:02\n",
       "7726333   2019-08-19 20:41:30\n",
       "7726696   2019-08-19 22:18:31\n",
       "7726697   2019-08-19 22:21:28\n",
       "7726698   2019-08-19 22:31:15\n",
       "Name: Start_Time, Length: 1210921, dtype: datetime64[ns]"
      ]
     },
     "execution_count": 65,
     "metadata": {},
     "output_type": "execute_result"
    }
   ],
   "source": [
    "monday_start_time = df.Start_Time[df.Start_Time.dt.day_of_week == 0]\n",
    "monday_start_time\n"
   ]
  },
  {
   "cell_type": "code",
   "execution_count": null,
   "metadata": {},
   "outputs": [],
   "source": [
    "sunday_start_time = df.Start_Time[df.Start_Time.dt.day_of_week == 6]"
   ]
  },
  {
   "cell_type": "code",
   "execution_count": null,
   "metadata": {},
   "outputs": [
    {
     "data": {
      "text/plain": [
       "<Axes: xlabel='Start_Time', ylabel='Percent'>"
      ]
     },
     "execution_count": 63,
     "metadata": {},
     "output_type": "execute_result"
    },
    {
     "data": {
      "image/png": "[encoded data removed]",
      "text/plain": [
       "<Figure size 640x480 with 1 Axes>"
      ]
     },
     "metadata": {},
     "output_type": "display_data"
    }
   ],
   "source": [
    "sns.histplot(monday_start_time.dt.hour,bins=24,stat='percent')\n"
   ]
  },
  {
   "cell_type": "code",
   "execution_count": null,
   "metadata": {},
   "outputs": [
    {
     "data": {
      "text/plain": [
       "<Axes: xlabel='Start_Time', ylabel='Percent'>"
      ]
     },
     "execution_count": 61,
     "metadata": {},
     "output_type": "execute_result"
    },
    {
     "data": {
      "image/png": "[encoded data removed]",
      "text/plain": [
       "<Figure size 640x480 with 1 Axes>"
      ]
     },
     "metadata": {},
     "output_type": "display_data"
    }
   ],
   "source": [
    "sns.histplot(sunday_start_time.dt.hour,bins=24,stat='percent')"
   ]
  },
  {
   "cell_type": "code",
   "execution_count": null,
   "metadata": {},
   "outputs": [
    {
     "data": {
      "text/plain": [
       "<seaborn.axisgrid.FacetGrid at 0x1f3135238c0>"
      ]
     },
     "execution_count": 67,
     "metadata": {},
     "output_type": "execute_result"
    },
    {
     "data": {
      "image/png": "[encoded data removed]",
      "text/plain": [
       "<Figure size 500x500 with 1 Axes>"
      ]
     },
     "metadata": {},
     "output_type": "display_data"
    }
   ],
   "source": [
    "df_2019 = df[df.Start_Time.dt.year == 2019]\n",
    "sns.displot(df_2019.Start_Time.dt.month,bins=12,stat='percent')"
   ]
  },
  {
   "cell_type": "code",
   "execution_count": null,
   "metadata": {},
   "outputs": [
    {
     "data": {
      "text/plain": [
       "<seaborn.axisgrid.FacetGrid at 0x1f319667860>"
      ]
     },
     "execution_count": 74,
     "metadata": {},
     "output_type": "execute_result"
    },
    {
     "data": {
      "image/png": "[encoded data removed]",
      "text/plain": [
       "<Figure size 500x500 with 1 Axes>"
      ]
     },
     "metadata": {},
     "output_type": "display_data"
    }
   ],
   "source": [
    "df_2019_source1 = df_2019[df_2019.Source == 'Source1']\n",
    "sns.displot(df_2019_source1.Start_Time.dt.month,bins=12,stat='percent')"
   ]
  },
  {
   "cell_type": "code",
   "execution_count": null,
   "metadata": {},
   "outputs": [
    {
     "data": {
      "text/plain": [
       "<seaborn.axisgrid.FacetGrid at 0x1f311cbb8c0>"
      ]
     },
     "execution_count": 75,
     "metadata": {},
     "output_type": "execute_result"
    },
    {
     "data": {
      "image/png": "[encoded data removed]",
      "text/plain": [
       "<Figure size 500x500 with 1 Axes>"
      ]
     },
     "metadata": {},
     "output_type": "display_data"
    }
   ],
   "source": [
    "df_2019_source2 = df_2019[df_2019.Source == 'Source2']\n",
    "sns.displot(df_2019_source2.Start_Time.dt.month,bins=12,stat='percent')"
   ]
  },
  {
   "cell_type": "markdown",
   "metadata": {},
   "source": [
    "1. A high percentage of accidents occur between 6 A.M and 10 A.M.\n",
    "2. The frequency of accidents increases from Monday to Friday.\n",
    "3. Most number of accidents happen during winter.\n",
    "4. There seems to be an error in data from Source 1.\n",
    "5. Much data is missing for 2016 and 2017."
   ]
  },
  {
   "cell_type": "code",
   "execution_count": null,
   "metadata": {},
   "outputs": [
    {
     "data": {
      "text/plain": [
       "0          Source2\n",
       "1          Source2\n",
       "2          Source2\n",
       "3          Source2\n",
       "4          Source2\n",
       "            ...   \n",
       "7728389    Source1\n",
       "7728390    Source1\n",
       "7728391    Source1\n",
       "7728392    Source1\n",
       "7728393    Source1\n",
       "Name: Source, Length: 7728394, dtype: object"
      ]
     },
     "execution_count": 73,
     "metadata": {},
     "output_type": "execute_result"
    }
   ],
   "source": [
    "df.Source"
   ]
  },
  {
   "cell_type": "code",
   "execution_count": null,
   "metadata": {},
   "outputs": [
    {
     "data": {
      "text/plain": [
       "<Axes: ylabel='count'>"
      ]
     },
     "execution_count": 77,
     "metadata": {},
     "output_type": "execute_result"
    },
    {
     "data": {
      "image/png": "[encoded data removed]",
      "text/plain": [
       "<Figure size 640x480 with 1 Axes>"
      ]
     },
     "metadata": {},
     "output_type": "display_data"
    }
   ],
   "source": [
    "df.Source.value_counts().plot(kind='pie',autopct='%1.1f%%')"
   ]
  },
  {
   "cell_type": "markdown",
   "metadata": {},
   "source": []
  }
 ],
 "metadata": {
  "kernelspec": {
   "display_name": "Python 3",
   "language": "python",
   "name": "python3"
  },
  "language_info": {
   "codemirror_mode": {
    "name": "ipython",
    "version": 3
   },
   "file_extension": ".py",
   "mimetype": "text/x-python",
   "name": "python",
   "nbconvert_exporter": "python",
   "pygments_lexer": "ipython3",
   "version": "3.13.2"
  }
 },
 "nbformat": 4,
 "nbformat_minor": 2
}
